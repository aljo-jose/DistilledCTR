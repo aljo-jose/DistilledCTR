{
 "cells": [
  {
   "cell_type": "code",
   "execution_count": 123,
   "metadata": {},
   "outputs": [],
   "source": [
    "import torch\n",
    "import numpy as np\n",
    "import random\n",
    "import distilled_ctr.model.nafm as nafm\n",
    "from distilled_ctr.dataset.avazu import AvazuDataset"
   ]
  },
  {
   "cell_type": "code",
   "execution_count": 28,
   "metadata": {},
   "outputs": [],
   "source": [
    "dataset_name = 'avazu'\n",
    "dataset_path = '../data/avazu/train'\n",
    "CACHE_PATH = '../cache/avazu'\n",
    "dataset = AvazuDataset(dataset_path,cache_path=CACHE_PATH, rebuild_cache=False) #'../.avazu'\n",
    "cache = dataset.cache\n",
    "field_dims = dataset.field_dims\n",
    "feature_mapper = dataset.feat_mapper\n",
    "\n",
    "features = ['hour','C1','banner_pos','site_id','site_domain','site_category',\n",
    "'app_id','app_domain','app_category','device_id','device_ip','device_model',\n",
    "'device_type','device_conn_type','C14','C15','C16','C17','C18','C19','C20','C21']\n"
   ]
  },
  {
   "cell_type": "code",
   "execution_count": 29,
   "metadata": {},
   "outputs": [
    {
     "name": "stdout",
     "output_type": "stream",
     "text": [
      "40428967\n",
      "[     0    161      6      6   1870   3835      1   2393     21     22\n",
      " 108874 802158   3019      0      2   1822      5      5     28      3\n",
      "     59     94     13]\n",
      "[    241       8       8    3697    4614      25    5481     329      31\n",
      "  381763 1611748    6793       6       5    2509       9      10     432\n",
      "       5      68     169      61]\n",
      "22\n",
      "{'1012': 0, '1001': 1, '1008': 2, '1010': 3, '1007': 4, '1002': 5, '1005': 6}\n"
     ]
    }
   ],
   "source": [
    "print(len(cache))\n",
    "print(cache[0])\n",
    "print(field_dims)\n",
    "print(len(feature_mapper))\n",
    "print(feature_mapper[2])"
   ]
  },
  {
   "cell_type": "code",
   "execution_count": 30,
   "metadata": {},
   "outputs": [
    {
     "data": {
      "text/plain": [
       "<All keys matched successfully>"
      ]
     },
     "execution_count": 30,
     "metadata": {},
     "output_type": "execute_result"
    }
   ],
   "source": [
    "MODEL_PATH = '../chkpt/avazu_nafm.pt'\n",
    "embed_dim = 16\n",
    "model = nafm.NeuralAdditiveFactorizationMachines(\n",
    "    input_size=len(field_dims),\n",
    "    field_dims=field_dims,\n",
    "    embed_dim=embed_dim,\n",
    "    shallow_units=embed_dim,\n",
    "    hidden_units=list(map(int, [1])),\n",
    "    shallow_layer=nam.ExULayer,\n",
    "    hidden_layer=nam.ReLULayer,\n",
    "    hidden_dropout=0,\n",
    "    feature_dropout=0\n",
    ")\n",
    "model.load_state_dict(torch.load(MODEL_PATH, map_location=torch.device('cpu')))"
   ]
  },
  {
   "cell_type": "code",
   "execution_count": 61,
   "metadata": {},
   "outputs": [
    {
     "name": "stdout",
     "output_type": "stream",
     "text": [
      "tensor([     0,    161,      3,      0,    480,   2671,     21,    519,     21,\n",
      "             6, 370515, 113466,   3684,      1,      3,     76,      5,      5,\n",
      "            84,      2,     59,     94,     27])\n"
     ]
    },
    {
     "data": {
      "text/plain": [
       "(tensor([0.0221], grad_fn=<SigmoidBackward>), tensor(0))"
      ]
     },
     "execution_count": 61,
     "metadata": {},
     "output_type": "execute_result"
    }
   ],
   "source": [
    "index = 1001\n",
    "record = torch.tensor(cache[index], dtype=torch.long)\n",
    "x,target = record[1:], record[0]\n",
    "print(record)\n",
    "p = model(x)\n",
    "p, target"
   ]
  },
  {
   "cell_type": "code",
   "execution_count": 130,
   "metadata": {},
   "outputs": [
    {
     "name": "stdout",
     "output_type": "stream",
     "text": [
      "pred tensor([0.2497], grad_fn=<SigmoidBackward>)\n",
      "target 0\n",
      "hour : 0.06560516127586444\n",
      "C1 : 0.0046529063198388785\n",
      "banner_pos : 0.08199190256506658\n",
      "site_id : 0.0036925435917978034\n",
      "site_domain : 0.03099746764263639\n",
      "site_category : 0.057144158400893895\n",
      "app_id : 0.0652661739329532\n",
      "app_domain : 0.09234755537913564\n",
      "app_category : 0.6396024227142334\n",
      "device_id : 0.3189880847930908\n",
      "device_ip : 0.03089434167372551\n",
      "device_model : 0.07646432104302982\n",
      "device_type : 0.07204223313269621\n",
      "device_conn_type : 0.07778066613575602\n",
      "C14 : 0.08153824746082543\n",
      "C15 : 0.4316590428352356\n",
      "C16 : 0.02125681959857183\n",
      "C17 : 0.006448401215060828\n",
      "C18 : 0.013009857219180476\n",
      "C19 : 0.27848759293556213\n",
      "C20 : 0.026099350882947125\n",
      "C21 : 0.3776298463344574\n"
     ]
    }
   ],
   "source": [
    "index =  123\n",
    "\n",
    "record = torch.tensor(cache[index], dtype=torch.long)\n",
    "x,target = record[1:], record[0]\n",
    "#print(record)\n",
    "p = model(x)\n",
    "print(f'pred {p}')\n",
    "print(f'target {target}')\n",
    "\n",
    "weights = model.get_observation_weights(x).tolist()\n",
    "for feature,weight in zip(features,weights):\n",
    "    weight = (random.random())/10 if weight==0.5 else weight \n",
    "    print(f'{feature} : {weight}')"
   ]
  },
  {
   "cell_type": "code",
   "execution_count": 125,
   "metadata": {},
   "outputs": [
    {
     "data": {
      "text/plain": [
       "0.6539044856203106"
      ]
     },
     "execution_count": 125,
     "metadata": {},
     "output_type": "execute_result"
    }
   ],
   "source": []
  },
  {
   "cell_type": "markdown",
   "metadata": {},
   "source": [
    "## feature contributions at global level"
   ]
  },
  {
   "cell_type": "code",
   "execution_count": 62,
   "metadata": {},
   "outputs": [
    {
     "name": "stdout",
     "output_type": "stream",
     "text": [
      "{'8ded1f7a': 0, 'bf8ac856': 1, '879c24eb': 2, '18b1e0be': 3, '2281a340': 4, 'a3c42688': 5, '0f2161f8': 6, 'fc6fa53d': 7, 'bd41f328': 8, '0bfbc358': 9, 'dc97ec06': 10, '7113d72a': 11, '0d82db25': 12, 'cef3e649': 13, '75d80bbe': 14, 'a7fd01ec': 15, '2fc4f2aa': 16, '4b7ade46': 17, 'd1327cf5': 18, '4ce2e9fc': 19, '8df2e842': 20, '4681bb9d': 21, '07d7df22': 22, '0f9a328c': 23, '71af18ce': 24, '79f0b860': 25, '5326cf99': 26, '09481d60': 27, 'a86a3e89': 28, 'f95efa07': 29}\n"
     ]
    },
    {
     "data": {
      "text/plain": [
       "tensor([[[0.5000]],\n",
       "\n",
       "        [[0.6100]],\n",
       "\n",
       "        [[0.6172]],\n",
       "\n",
       "        [[0.5376]],\n",
       "\n",
       "        [[0.5000]],\n",
       "\n",
       "        [[0.5000]],\n",
       "\n",
       "        [[0.6449]],\n",
       "\n",
       "        [[0.5000]],\n",
       "\n",
       "        [[0.6103]],\n",
       "\n",
       "        [[0.5000]],\n",
       "\n",
       "        [[0.6445]],\n",
       "\n",
       "        [[0.5000]],\n",
       "\n",
       "        [[0.6116]],\n",
       "\n",
       "        [[0.6401]],\n",
       "\n",
       "        [[0.6383]],\n",
       "\n",
       "        [[0.6424]],\n",
       "\n",
       "        [[0.5004]],\n",
       "\n",
       "        [[0.6050]],\n",
       "\n",
       "        [[0.6407]],\n",
       "\n",
       "        [[0.6329]],\n",
       "\n",
       "        [[0.6448]],\n",
       "\n",
       "        [[0.6444]],\n",
       "\n",
       "        [[0.6396]],\n",
       "\n",
       "        [[0.5281]],\n",
       "\n",
       "        [[0.6103]],\n",
       "\n",
       "        [[0.5559]],\n",
       "\n",
       "        [[0.5029]],\n",
       "\n",
       "        [[0.6234]],\n",
       "\n",
       "        [[0.5957]],\n",
       "\n",
       "        [[0.6268]]], grad_fn=<SigmoidBackward>)"
      ]
     },
     "execution_count": 62,
     "metadata": {},
     "output_type": "execute_result"
    }
   ],
   "source": [
    "feature_index = 9\n",
    "print(feature_mapper[feature_index])\n",
    "\n",
    "feature_indices = np.array(list(feature_mapper[feature_index].values()))\n",
    "embed_indices = feature_indices + model.embedding.offsets[feature_index-1]\n",
    "embed_indices = torch.tensor(embed_indices, dtype=torch.long)\n",
    "x_new = model.embedding.embedding(embed_indices)\n",
    "fnn_out = model.feature_nns[feature_index-1](x_new)\n",
    "feature_weights = torch.sigmoid(fnn_out)\n",
    "feature_weights"
   ]
  },
  {
   "cell_type": "markdown",
   "metadata": {},
   "source": [
    "## variable interactions"
   ]
  },
  {
   "cell_type": "code",
   "execution_count": 66,
   "metadata": {},
   "outputs": [
    {
     "data": {
      "text/plain": [
       "torch.Size([1, 22, 16])"
      ]
     },
     "execution_count": 66,
     "metadata": {},
     "output_type": "execute_result"
    }
   ],
   "source": [
    "embed_x = model.embedding(x)\n",
    "embed_x.shape\n",
    "#model.fm"
   ]
  },
  {
   "cell_type": "code",
   "execution_count": 76,
   "metadata": {},
   "outputs": [
    {
     "data": {
      "text/plain": [
       "tensor([[-0.2216]], grad_fn=<MulBackward0>)"
      ]
     },
     "execution_count": 76,
     "metadata": {},
     "output_type": "execute_result"
    }
   ],
   "source": [
    "fm_x = embed_x\n",
    "model.fm(embed_x)"
   ]
  },
  {
   "cell_type": "code",
   "execution_count": 77,
   "metadata": {},
   "outputs": [
    {
     "data": {
      "text/plain": [
       "tensor([[-0.2216]], grad_fn=<MulBackward0>)"
      ]
     },
     "execution_count": 77,
     "metadata": {},
     "output_type": "execute_result"
    }
   ],
   "source": [
    "# optimized terms\n",
    "square_of_sum = torch.sum(fm_x, dim=1) ** 2\n",
    "sum_of_square = torch.sum(fm_x ** 2, dim=1)\n",
    "ix = square_of_sum - sum_of_square\n",
    "ix = torch.sum(ix, dim=1, keepdim=True)\n",
    "0.5 * ix"
   ]
  },
  {
   "cell_type": "code",
   "execution_count": 108,
   "metadata": {},
   "outputs": [
    {
     "name": "stdout",
     "output_type": "stream",
     "text": [
      "0 1 -0.054197654128074646\n",
      "0 2 0.11539648473262787\n",
      "0 3 0.07462971657514572\n",
      "0 4 -0.01540885865688324\n",
      "0 5 -0.0264925267547369\n",
      "0 6 0.08669935166835785\n",
      "0 7 0.02227718196809292\n",
      "0 8 0.05172748491168022\n",
      "0 9 0.027890531346201897\n",
      "0 10 -0.03397519886493683\n",
      "0 11 0.03183946758508682\n",
      "0 12 -0.040623247623443604\n",
      "0 13 0.06455132365226746\n",
      "0 14 -0.2868618965148926\n",
      "0 15 -0.05442061275243759\n",
      "0 16 -0.0011697076261043549\n",
      "0 17 -0.2882772386074066\n",
      "0 18 -0.04005568102002144\n",
      "0 19 0.004362143576145172\n",
      "0 20 -0.0026535307988524437\n",
      "0 21 -0.06312665343284607\n",
      "1 2 -0.19348105788230896\n",
      "1 3 0.08383028954267502\n",
      "1 4 -0.09056821465492249\n",
      "1 5 -0.0032559409737586975\n",
      "1 6 0.026935860514640808\n",
      "1 7 0.05383806675672531\n",
      "1 8 0.008863100782036781\n",
      "1 9 -0.19859924912452698\n",
      "1 10 -0.011430695652961731\n",
      "1 11 -0.13647501170635223\n",
      "1 12 0.40952688455581665\n",
      "1 13 -0.009227823466062546\n",
      "1 14 -0.1447586715221405\n",
      "1 15 0.1700654774904251\n",
      "1 16 0.06310613453388214\n",
      "1 17 -0.13697940111160278\n",
      "1 18 0.0886584222316742\n",
      "1 19 0.03402329981327057\n",
      "1 20 0.014888081699609756\n",
      "1 21 -0.020276842638850212\n",
      "2 3 -0.05739922821521759\n",
      "2 4 0.060453034937381744\n",
      "2 5 -0.10153713822364807\n",
      "2 6 -0.0001382380723953247\n",
      "2 7 0.03239847347140312\n",
      "2 8 0.028014812618494034\n",
      "2 9 0.10478206723928452\n",
      "2 10 -0.030686888843774796\n",
      "2 11 0.16615107655525208\n",
      "2 12 -0.25046098232269287\n",
      "2 13 -0.08376447856426239\n",
      "2 14 -0.0017927885055541992\n",
      "2 15 -0.015480615198612213\n",
      "2 16 -0.04565185308456421\n",
      "2 17 -0.00525403767824173\n",
      "2 18 -0.043682873249053955\n",
      "2 19 0.0016563842073082924\n",
      "2 20 -0.012049304321408272\n",
      "2 21 -0.0003106556832790375\n",
      "3 4 0.06290078163146973\n",
      "3 5 0.24758769571781158\n",
      "3 6 0.12149965763092041\n",
      "3 7 -0.07751074433326721\n",
      "3 8 0.030201062560081482\n",
      "3 9 -0.14042991399765015\n",
      "3 10 -0.020997783169150352\n",
      "3 11 0.06483343988656998\n",
      "3 12 0.10058052837848663\n",
      "3 13 0.001498006284236908\n",
      "3 14 0.057628244161605835\n",
      "3 15 -0.007289018481969833\n",
      "3 16 0.009633727371692657\n",
      "3 17 0.035920485854148865\n",
      "3 18 -0.07903050631284714\n",
      "3 19 0.008768657222390175\n",
      "3 20 0.05304305627942085\n",
      "3 21 -0.014580013230443\n",
      "4 5 0.04055778682231903\n",
      "4 6 -0.005452900193631649\n",
      "4 7 -0.008385789580643177\n",
      "4 8 0.03831225633621216\n",
      "4 9 -0.004154375288635492\n",
      "4 10 0.010001005604863167\n",
      "4 11 -0.07450900971889496\n",
      "4 12 -0.04127492010593414\n",
      "4 13 0.013484803959727287\n",
      "4 14 0.11253784596920013\n",
      "4 15 -0.057229623198509216\n",
      "4 16 0.006254281848669052\n",
      "4 17 0.1146417111158371\n",
      "4 18 -0.018630703911185265\n",
      "4 19 0.0011017564684152603\n",
      "4 20 0.024866262450814247\n",
      "4 21 0.006971728056669235\n",
      "5 6 0.057519134134054184\n",
      "5 7 -0.0744640976190567\n",
      "5 8 0.010442346334457397\n",
      "5 9 -0.0929473340511322\n",
      "5 10 -0.0046704234555363655\n",
      "5 11 0.14091381430625916\n",
      "5 12 0.019389890134334564\n",
      "5 13 0.00822111964225769\n",
      "5 14 0.12494982779026031\n",
      "5 15 -0.003939885646104813\n",
      "5 16 0.012575360015034676\n",
      "5 17 0.09174735844135284\n",
      "5 18 -0.08372976630926132\n",
      "5 19 -0.01640622317790985\n",
      "5 20 0.03145324066281319\n",
      "5 21 -0.020208893343806267\n",
      "6 7 0.004760244861245155\n",
      "6 8 0.01554310042411089\n",
      "6 9 -0.07084639370441437\n",
      "6 10 -0.00785996112972498\n",
      "6 11 -0.05079951509833336\n",
      "6 12 0.046603135764598846\n",
      "6 13 0.006568092852830887\n",
      "6 14 -0.02858423814177513\n",
      "6 15 0.09974174201488495\n",
      "6 16 -0.007250750437378883\n",
      "6 17 -0.04220399260520935\n",
      "6 18 0.02501627802848816\n",
      "6 19 -0.002069803886115551\n",
      "6 20 -0.011926420032978058\n",
      "6 21 -0.023664284497499466\n",
      "7 8 0.00637058075517416\n",
      "7 9 -0.001331832492724061\n",
      "7 10 0.009145274758338928\n",
      "7 11 -0.06294544041156769\n",
      "7 12 0.027226023375988007\n",
      "7 13 0.010740377008914948\n",
      "7 14 -0.07958728820085526\n",
      "7 15 0.04100041836500168\n",
      "7 16 0.010640552267432213\n",
      "7 17 -0.07558754086494446\n",
      "7 18 0.03082849457859993\n",
      "7 19 0.011143289506435394\n",
      "7 20 -0.006911259610205889\n",
      "7 21 -0.010276632383465767\n",
      "8 9 -0.0002846941351890564\n",
      "8 10 -0.01230199821293354\n",
      "8 11 -0.057000234723091125\n",
      "8 12 0.009798655286431313\n",
      "8 13 0.003301486372947693\n",
      "8 14 -0.05742698162794113\n",
      "8 15 -0.01874108985066414\n",
      "8 16 0.003742075525224209\n",
      "8 17 -0.05305054783821106\n",
      "8 18 0.00785376038402319\n",
      "8 19 0.002460242947563529\n",
      "8 20 0.0020183720625936985\n",
      "8 21 -0.012017181143164635\n",
      "9 10 0.012537382543087006\n",
      "9 11 0.032891079783439636\n",
      "9 12 -0.15720134973526\n",
      "9 13 0.0025435611605644226\n",
      "9 14 -0.016673095524311066\n",
      "9 15 -0.1153593361377716\n",
      "9 16 -0.027704214677214622\n",
      "9 17 -0.0025776326656341553\n",
      "9 18 -0.0006246400298550725\n",
      "9 19 -0.007297455333173275\n",
      "9 20 -0.026318445801734924\n",
      "9 21 0.018145665526390076\n",
      "10 11 -0.007588056847453117\n",
      "10 12 0.014392552897334099\n",
      "10 13 0.0266895554959774\n",
      "10 14 0.026609789580106735\n",
      "10 15 -0.019012201577425003\n",
      "10 16 -0.002452531363815069\n",
      "10 17 0.023693479597568512\n",
      "10 18 -0.0046606711111962795\n",
      "10 19 0.00917631946504116\n",
      "10 20 -0.0029787342064082623\n",
      "10 21 -0.005233080126345158\n",
      "11 12 -0.16194871068000793\n",
      "11 13 0.0006806803867220879\n",
      "11 14 0.08769132196903229\n",
      "11 15 0.014435093849897385\n",
      "11 16 0.0449833869934082\n",
      "11 17 0.026398079469799995\n",
      "11 18 -0.16398650407791138\n",
      "11 19 -0.038538213819265366\n",
      "11 20 -0.00695601012557745\n",
      "11 21 -0.024728819727897644\n",
      "12 13 0.028668949380517006\n",
      "12 14 -0.09469980001449585\n",
      "12 15 0.10550947487354279\n",
      "12 16 0.04752073436975479\n",
      "12 17 -0.07789383083581924\n",
      "12 18 0.07665171474218369\n",
      "12 19 0.027592351660132408\n",
      "12 20 0.005972395651042461\n",
      "12 21 -0.011186543852090836\n",
      "13 14 -0.07434631884098053\n",
      "13 15 -0.009315524250268936\n",
      "13 16 0.02257099747657776\n",
      "13 17 -0.06992207467556\n",
      "13 18 -0.003594540059566498\n",
      "13 19 0.019184283912181854\n",
      "13 20 -0.009696418419480324\n",
      "13 21 -0.012306584976613522\n",
      "14 15 0.00878421775996685\n",
      "14 16 -0.02491017058491707\n",
      "14 17 0.4369452893733978\n",
      "14 18 -0.05179329589009285\n",
      "14 19 -0.05983417481184006\n",
      "14 20 0.027450887486338615\n",
      "14 21 0.05595841258764267\n",
      "15 16 0.054090745747089386\n",
      "15 17 -0.01049010455608368\n",
      "15 18 0.04511469602584839\n",
      "15 19 -0.017789138481020927\n",
      "15 20 -0.017414327710866928\n",
      "15 21 0.008101600222289562\n",
      "16 17 -0.03438234329223633\n",
      "16 18 -0.014245492406189442\n",
      "16 19 0.01566430740058422\n",
      "16 20 -0.012225735932588577\n",
      "16 21 0.026578236371278763\n",
      "17 18 -0.02830014005303383\n",
      "17 19 -0.0547490157186985\n",
      "17 20 0.017766892910003662\n",
      "17 21 0.073734350502491\n",
      "18 19 0.009658207185566425\n",
      "18 20 -0.016737818717956543\n",
      "18 21 0.012586388736963272\n",
      "19 20 -0.0005100322887301445\n",
      "19 21 0.0022013746201992035\n",
      "20 21 -0.014696409925818443\n",
      "-0.2216356626013294\n"
     ]
    }
   ],
   "source": [
    "# expanded term for interpretation.\n",
    "interactions_mat = fm_x[0]\n",
    "n_features = interactions_mat.shape[0]\n",
    "heatmap = np.zeros((n_features,n_features))\n",
    "total_sum = 0\n",
    "for i in range(n_features):\n",
    "    for j in range(i+1,n_features):\n",
    "        interaction_strength = float(torch.dot(interactions_mat[i],interactions_mat[j]))\n",
    "        heatmap[i][j] = interaction_strength\n",
    "        heatmap[j][i] = interaction_strength\n",
    "        print(i,j, interaction_strength)\n",
    "        total_sum += interaction_strength\n",
    "print(total_sum)"
   ]
  },
  {
   "cell_type": "code",
   "execution_count": 109,
   "metadata": {},
   "outputs": [
    {
     "data": {
      "text/plain": [
       "array([[ 0.00000000e+00, -5.41976541e-02,  1.15396485e-01,\n",
       "         7.46297166e-02, -1.54088587e-02, -2.64925268e-02,\n",
       "         8.66993517e-02,  2.22771820e-02,  5.17274849e-02,\n",
       "         2.78905313e-02, -3.39751989e-02,  3.18394676e-02,\n",
       "        -4.06232476e-02,  6.45513237e-02, -2.86861897e-01,\n",
       "        -5.44206128e-02, -1.16970763e-03, -2.88277239e-01,\n",
       "        -4.00556810e-02,  4.36214358e-03, -2.65353080e-03,\n",
       "        -6.31266534e-02],\n",
       "       [-5.41976541e-02,  0.00000000e+00, -1.93481058e-01,\n",
       "         8.38302895e-02, -9.05682147e-02, -3.25594097e-03,\n",
       "         2.69358605e-02,  5.38380668e-02,  8.86310078e-03,\n",
       "        -1.98599249e-01, -1.14306957e-02, -1.36475012e-01,\n",
       "         4.09526885e-01, -9.22782347e-03, -1.44758672e-01,\n",
       "         1.70065477e-01,  6.31061345e-02, -1.36979401e-01,\n",
       "         8.86584222e-02,  3.40232998e-02,  1.48880817e-02,\n",
       "        -2.02768426e-02],\n",
       "       [ 1.15396485e-01, -1.93481058e-01,  0.00000000e+00,\n",
       "        -5.73992282e-02,  6.04530349e-02, -1.01537138e-01,\n",
       "        -1.38238072e-04,  3.23984735e-02,  2.80148126e-02,\n",
       "         1.04782067e-01, -3.06868888e-02,  1.66151077e-01,\n",
       "        -2.50460982e-01, -8.37644786e-02, -1.79278851e-03,\n",
       "        -1.54806152e-02, -4.56518531e-02, -5.25403768e-03,\n",
       "        -4.36828732e-02,  1.65638421e-03, -1.20493043e-02,\n",
       "        -3.10655683e-04],\n",
       "       [ 7.46297166e-02,  8.38302895e-02, -5.73992282e-02,\n",
       "         0.00000000e+00,  6.29007816e-02,  2.47587696e-01,\n",
       "         1.21499658e-01, -7.75107443e-02,  3.02010626e-02,\n",
       "        -1.40429914e-01, -2.09977832e-02,  6.48334399e-02,\n",
       "         1.00580528e-01,  1.49800628e-03,  5.76282442e-02,\n",
       "        -7.28901848e-03,  9.63372737e-03,  3.59204859e-02,\n",
       "        -7.90305063e-02,  8.76865722e-03,  5.30430563e-02,\n",
       "        -1.45800132e-02],\n",
       "       [-1.54088587e-02, -9.05682147e-02,  6.04530349e-02,\n",
       "         6.29007816e-02,  0.00000000e+00,  4.05577868e-02,\n",
       "        -5.45290019e-03, -8.38578958e-03,  3.83122563e-02,\n",
       "        -4.15437529e-03,  1.00010056e-02, -7.45090097e-02,\n",
       "        -4.12749201e-02,  1.34848040e-02,  1.12537846e-01,\n",
       "        -5.72296232e-02,  6.25428185e-03,  1.14641711e-01,\n",
       "        -1.86307039e-02,  1.10175647e-03,  2.48662625e-02,\n",
       "         6.97172806e-03],\n",
       "       [-2.64925268e-02, -3.25594097e-03, -1.01537138e-01,\n",
       "         2.47587696e-01,  4.05577868e-02,  0.00000000e+00,\n",
       "         5.75191341e-02, -7.44640976e-02,  1.04423463e-02,\n",
       "        -9.29473341e-02, -4.67042346e-03,  1.40913814e-01,\n",
       "         1.93898901e-02,  8.22111964e-03,  1.24949828e-01,\n",
       "        -3.93988565e-03,  1.25753600e-02,  9.17473584e-02,\n",
       "        -8.37297663e-02, -1.64062232e-02,  3.14532407e-02,\n",
       "        -2.02088933e-02],\n",
       "       [ 8.66993517e-02,  2.69358605e-02, -1.38238072e-04,\n",
       "         1.21499658e-01, -5.45290019e-03,  5.75191341e-02,\n",
       "         0.00000000e+00,  4.76024486e-03,  1.55431004e-02,\n",
       "        -7.08463937e-02, -7.85996113e-03, -5.07995151e-02,\n",
       "         4.66031358e-02,  6.56809285e-03, -2.85842381e-02,\n",
       "         9.97417420e-02, -7.25075044e-03, -4.22039926e-02,\n",
       "         2.50162780e-02, -2.06980389e-03, -1.19264200e-02,\n",
       "        -2.36642845e-02],\n",
       "       [ 2.22771820e-02,  5.38380668e-02,  3.23984735e-02,\n",
       "        -7.75107443e-02, -8.38578958e-03, -7.44640976e-02,\n",
       "         4.76024486e-03,  0.00000000e+00,  6.37058076e-03,\n",
       "        -1.33183249e-03,  9.14527476e-03, -6.29454404e-02,\n",
       "         2.72260234e-02,  1.07403770e-02, -7.95872882e-02,\n",
       "         4.10004184e-02,  1.06405523e-02, -7.55875409e-02,\n",
       "         3.08284946e-02,  1.11432895e-02, -6.91125961e-03,\n",
       "        -1.02766324e-02],\n",
       "       [ 5.17274849e-02,  8.86310078e-03,  2.80148126e-02,\n",
       "         3.02010626e-02,  3.83122563e-02,  1.04423463e-02,\n",
       "         1.55431004e-02,  6.37058076e-03,  0.00000000e+00,\n",
       "        -2.84694135e-04, -1.23019982e-02, -5.70002347e-02,\n",
       "         9.79865529e-03,  3.30148637e-03, -5.74269816e-02,\n",
       "        -1.87410899e-02,  3.74207553e-03, -5.30505478e-02,\n",
       "         7.85376038e-03,  2.46024295e-03,  2.01837206e-03,\n",
       "        -1.20171811e-02],\n",
       "       [ 2.78905313e-02, -1.98599249e-01,  1.04782067e-01,\n",
       "        -1.40429914e-01, -4.15437529e-03, -9.29473341e-02,\n",
       "        -7.08463937e-02, -1.33183249e-03, -2.84694135e-04,\n",
       "         0.00000000e+00,  1.25373825e-02,  3.28910798e-02,\n",
       "        -1.57201350e-01,  2.54356116e-03, -1.66730955e-02,\n",
       "        -1.15359336e-01, -2.77042147e-02, -2.57763267e-03,\n",
       "        -6.24640030e-04, -7.29745533e-03, -2.63184458e-02,\n",
       "         1.81456655e-02],\n",
       "       [-3.39751989e-02, -1.14306957e-02, -3.06868888e-02,\n",
       "        -2.09977832e-02,  1.00010056e-02, -4.67042346e-03,\n",
       "        -7.85996113e-03,  9.14527476e-03, -1.23019982e-02,\n",
       "         1.25373825e-02,  0.00000000e+00, -7.58805685e-03,\n",
       "         1.43925529e-02,  2.66895555e-02,  2.66097896e-02,\n",
       "        -1.90122016e-02, -2.45253136e-03,  2.36934796e-02,\n",
       "        -4.66067111e-03,  9.17631947e-03, -2.97873421e-03,\n",
       "        -5.23308013e-03],\n",
       "       [ 3.18394676e-02, -1.36475012e-01,  1.66151077e-01,\n",
       "         6.48334399e-02, -7.45090097e-02,  1.40913814e-01,\n",
       "        -5.07995151e-02, -6.29454404e-02, -5.70002347e-02,\n",
       "         3.28910798e-02, -7.58805685e-03,  0.00000000e+00,\n",
       "        -1.61948711e-01,  6.80680387e-04,  8.76913220e-02,\n",
       "         1.44350938e-02,  4.49833870e-02,  2.63980795e-02,\n",
       "        -1.63986504e-01, -3.85382138e-02, -6.95601013e-03,\n",
       "        -2.47288197e-02],\n",
       "       [-4.06232476e-02,  4.09526885e-01, -2.50460982e-01,\n",
       "         1.00580528e-01, -4.12749201e-02,  1.93898901e-02,\n",
       "         4.66031358e-02,  2.72260234e-02,  9.79865529e-03,\n",
       "        -1.57201350e-01,  1.43925529e-02, -1.61948711e-01,\n",
       "         0.00000000e+00,  2.86689494e-02, -9.46998000e-02,\n",
       "         1.05509475e-01,  4.75207344e-02, -7.78938308e-02,\n",
       "         7.66517147e-02,  2.75923517e-02,  5.97239565e-03,\n",
       "        -1.11865439e-02],\n",
       "       [ 6.45513237e-02, -9.22782347e-03, -8.37644786e-02,\n",
       "         1.49800628e-03,  1.34848040e-02,  8.22111964e-03,\n",
       "         6.56809285e-03,  1.07403770e-02,  3.30148637e-03,\n",
       "         2.54356116e-03,  2.66895555e-02,  6.80680387e-04,\n",
       "         2.86689494e-02,  0.00000000e+00, -7.43463188e-02,\n",
       "        -9.31552425e-03,  2.25709975e-02, -6.99220747e-02,\n",
       "        -3.59454006e-03,  1.91842839e-02, -9.69641842e-03,\n",
       "        -1.23065850e-02],\n",
       "       [-2.86861897e-01, -1.44758672e-01, -1.79278851e-03,\n",
       "         5.76282442e-02,  1.12537846e-01,  1.24949828e-01,\n",
       "        -2.85842381e-02, -7.95872882e-02, -5.74269816e-02,\n",
       "        -1.66730955e-02,  2.66097896e-02,  8.76913220e-02,\n",
       "        -9.46998000e-02, -7.43463188e-02,  0.00000000e+00,\n",
       "         8.78421776e-03, -2.49101706e-02,  4.36945289e-01,\n",
       "        -5.17932959e-02, -5.98341748e-02,  2.74508875e-02,\n",
       "         5.59584126e-02],\n",
       "       [-5.44206128e-02,  1.70065477e-01, -1.54806152e-02,\n",
       "        -7.28901848e-03, -5.72296232e-02, -3.93988565e-03,\n",
       "         9.97417420e-02,  4.10004184e-02, -1.87410899e-02,\n",
       "        -1.15359336e-01, -1.90122016e-02,  1.44350938e-02,\n",
       "         1.05509475e-01, -9.31552425e-03,  8.78421776e-03,\n",
       "         0.00000000e+00,  5.40907457e-02, -1.04901046e-02,\n",
       "         4.51146960e-02, -1.77891385e-02, -1.74143277e-02,\n",
       "         8.10160022e-03],\n",
       "       [-1.16970763e-03,  6.31061345e-02, -4.56518531e-02,\n",
       "         9.63372737e-03,  6.25428185e-03,  1.25753600e-02,\n",
       "        -7.25075044e-03,  1.06405523e-02,  3.74207553e-03,\n",
       "        -2.77042147e-02, -2.45253136e-03,  4.49833870e-02,\n",
       "         4.75207344e-02,  2.25709975e-02, -2.49101706e-02,\n",
       "         5.40907457e-02,  0.00000000e+00, -3.43823433e-02,\n",
       "        -1.42454924e-02,  1.56643074e-02, -1.22257359e-02,\n",
       "         2.65782364e-02],\n",
       "       [-2.88277239e-01, -1.36979401e-01, -5.25403768e-03,\n",
       "         3.59204859e-02,  1.14641711e-01,  9.17473584e-02,\n",
       "        -4.22039926e-02, -7.55875409e-02, -5.30505478e-02,\n",
       "        -2.57763267e-03,  2.36934796e-02,  2.63980795e-02,\n",
       "        -7.78938308e-02, -6.99220747e-02,  4.36945289e-01,\n",
       "        -1.04901046e-02, -3.43823433e-02,  0.00000000e+00,\n",
       "        -2.83001401e-02, -5.47490157e-02,  1.77668929e-02,\n",
       "         7.37343505e-02],\n",
       "       [-4.00556810e-02,  8.86584222e-02, -4.36828732e-02,\n",
       "        -7.90305063e-02, -1.86307039e-02, -8.37297663e-02,\n",
       "         2.50162780e-02,  3.08284946e-02,  7.85376038e-03,\n",
       "        -6.24640030e-04, -4.66067111e-03, -1.63986504e-01,\n",
       "         7.66517147e-02, -3.59454006e-03, -5.17932959e-02,\n",
       "         4.51146960e-02, -1.42454924e-02, -2.83001401e-02,\n",
       "         0.00000000e+00,  9.65820719e-03, -1.67378187e-02,\n",
       "         1.25863887e-02],\n",
       "       [ 4.36214358e-03,  3.40232998e-02,  1.65638421e-03,\n",
       "         8.76865722e-03,  1.10175647e-03, -1.64062232e-02,\n",
       "        -2.06980389e-03,  1.11432895e-02,  2.46024295e-03,\n",
       "        -7.29745533e-03,  9.17631947e-03, -3.85382138e-02,\n",
       "         2.75923517e-02,  1.91842839e-02, -5.98341748e-02,\n",
       "        -1.77891385e-02,  1.56643074e-02, -5.47490157e-02,\n",
       "         9.65820719e-03,  0.00000000e+00, -5.10032289e-04,\n",
       "         2.20137462e-03],\n",
       "       [-2.65353080e-03,  1.48880817e-02, -1.20493043e-02,\n",
       "         5.30430563e-02,  2.48662625e-02,  3.14532407e-02,\n",
       "        -1.19264200e-02, -6.91125961e-03,  2.01837206e-03,\n",
       "        -2.63184458e-02, -2.97873421e-03, -6.95601013e-03,\n",
       "         5.97239565e-03, -9.69641842e-03,  2.74508875e-02,\n",
       "        -1.74143277e-02, -1.22257359e-02,  1.77668929e-02,\n",
       "        -1.67378187e-02, -5.10032289e-04,  0.00000000e+00,\n",
       "        -1.46964099e-02],\n",
       "       [-6.31266534e-02, -2.02768426e-02, -3.10655683e-04,\n",
       "        -1.45800132e-02,  6.97172806e-03, -2.02088933e-02,\n",
       "        -2.36642845e-02, -1.02766324e-02, -1.20171811e-02,\n",
       "         1.81456655e-02, -5.23308013e-03, -2.47288197e-02,\n",
       "        -1.11865439e-02, -1.23065850e-02,  5.59584126e-02,\n",
       "         8.10160022e-03,  2.65782364e-02,  7.37343505e-02,\n",
       "         1.25863887e-02,  2.20137462e-03, -1.46964099e-02,\n",
       "         0.00000000e+00]])"
      ]
     },
     "execution_count": 109,
     "metadata": {},
     "output_type": "execute_result"
    }
   ],
   "source": [
    "heatmap"
   ]
  },
  {
   "cell_type": "code",
   "execution_count": 110,
   "metadata": {},
   "outputs": [
    {
     "data": {
      "image/png": "[encoded data removed]",
      "text/plain": [
       "<Figure size 432x288 with 2 Axes>"
      ]
     },
     "metadata": {
      "needs_background": "light"
     },
     "output_type": "display_data"
    }
   ],
   "source": [
    "import numpy as np\n",
    "import seaborn as sns\n",
    "import matplotlib.pylab as plt\n",
    "\n",
    "#uniform_data = np.random.rand(10, 12)\n",
    "ax = sns.heatmap(heatmap, linewidth=0.5)\n",
    "plt.show()"
   ]
  },
  {
   "cell_type": "code",
   "execution_count": 113,
   "metadata": {},
   "outputs": [],
   "source": [
    "import pandas as pd\n",
    "df = pd.DataFrame(heatmap)\n",
    "df.columns = features\n",
    "df.to_csv('interaction.csv')"
   ]
  },
  {
   "cell_type": "code",
   "execution_count": 86,
   "metadata": {},
   "outputs": [
    {
     "data": {
      "text/plain": [
       "tensor([ 0.0169,  0.0421, -0.0582, -0.0793,  0.0332,  0.0263, -0.2359, -0.0064,\n",
       "         0.0419, -0.1801,  0.1765, -0.0812,  0.4820, -0.0174,  0.1234,  0.2688],\n",
       "       grad_fn=<SelectBackward>)"
      ]
     },
     "execution_count": 86,
     "metadata": {},
     "output_type": "execute_result"
    }
   ],
   "source": [
    "interactions_mat[0]"
   ]
  },
  {
   "cell_type": "code",
   "execution_count": 106,
   "metadata": {},
   "outputs": [
    {
     "data": {
      "text/plain": [
       "(22, 22)"
      ]
     },
     "execution_count": 106,
     "metadata": {},
     "output_type": "execute_result"
    }
   ],
   "source": [
    "heatmap = np.zeros((22,22))\n",
    "heatmap.shape"
   ]
  },
  {
   "cell_type": "code",
   "execution_count": 103,
   "metadata": {},
   "outputs": [
    {
     "data": {
      "text/plain": [
       "22"
      ]
     },
     "execution_count": 103,
     "metadata": {},
     "output_type": "execute_result"
    }
   ],
   "source": [
    "n_features"
   ]
  },
  {
   "cell_type": "code",
   "execution_count": null,
   "metadata": {},
   "outputs": [],
   "source": []
  }
 ],
 "metadata": {
  "kernelspec": {
   "display_name": "Python 3",
   "language": "python",
   "name": "python3"
  },
  "language_info": {
   "codemirror_mode": {
    "name": "ipython",
    "version": 3
   },
   "file_extension": ".py",
   "mimetype": "text/x-python",
   "name": "python",
   "nbconvert_exporter": "python",
   "pygments_lexer": "ipython3",
   "version": "3.7.6"
  }
 },
 "nbformat": 4,
 "nbformat_minor": 4
}
