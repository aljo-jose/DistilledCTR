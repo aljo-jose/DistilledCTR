{
 "cells": [
  {
   "cell_type": "code",
   "execution_count": 13,
   "metadata": {},
   "outputs": [],
   "source": [
    "import torch\n",
    "import numpy as np\n",
    "import distilled_ctr.model.nafm as nafm\n",
    "from distilled_ctr.dataset.avazu import AvazuDataset"
   ]
  },
  {
   "cell_type": "code",
   "execution_count": 28,
   "metadata": {},
   "outputs": [],
   "source": [
    "dataset_name = 'avazu'\n",
    "dataset_path = '../data/avazu/train'\n",
    "CACHE_PATH = '../cache/avazu'\n",
    "dataset = AvazuDataset(dataset_path,cache_path=CACHE_PATH, rebuild_cache=False) #'../.avazu'\n",
    "cache = dataset.cache\n",
    "field_dims = dataset.field_dims\n",
    "feature_mapper = dataset.feat_mapper\n",
    "\n",
    "features = ['hour','C1','banner_pos','site_id','site_domain','site_category',\n",
    "'app_id','app_domain','app_category','device_id','device_ip','device_model',\n",
    "'device_type','device_conn_type','C14','C15','C16','C17','C18','C19','C20','C21']\n"
   ]
  },
  {
   "cell_type": "code",
   "execution_count": 29,
   "metadata": {},
   "outputs": [
    {
     "name": "stdout",
     "output_type": "stream",
     "text": [
      "40428967\n",
      "[     0    161      6      6   1870   3835      1   2393     21     22\n",
      " 108874 802158   3019      0      2   1822      5      5     28      3\n",
      "     59     94     13]\n",
      "[    241       8       8    3697    4614      25    5481     329      31\n",
      "  381763 1611748    6793       6       5    2509       9      10     432\n",
      "       5      68     169      61]\n",
      "22\n",
      "{'1012': 0, '1001': 1, '1008': 2, '1010': 3, '1007': 4, '1002': 5, '1005': 6}\n"
     ]
    }
   ],
   "source": [
    "print(len(cache))\n",
    "print(cache[0])\n",
    "print(field_dims)\n",
    "print(len(feature_mapper))\n",
    "print(feature_mapper[2])"
   ]
  },
  {
   "cell_type": "code",
   "execution_count": 30,
   "metadata": {},
   "outputs": [
    {
     "data": {
      "text/plain": [
       "<All keys matched successfully>"
      ]
     },
     "execution_count": 30,
     "metadata": {},
     "output_type": "execute_result"
    }
   ],
   "source": [
    "MODEL_PATH = '../chkpt/avazu_nafm.pt'\n",
    "embed_dim = 16\n",
    "model = nafm.NeuralAdditiveFactorizationMachines(\n",
    "    input_size=len(field_dims),\n",
    "    field_dims=field_dims,\n",
    "    embed_dim=embed_dim,\n",
    "    shallow_units=embed_dim,\n",
    "    hidden_units=list(map(int, [1])),\n",
    "    shallow_layer=nam.ExULayer,\n",
    "    hidden_layer=nam.ReLULayer,\n",
    "    hidden_dropout=0,\n",
    "    feature_dropout=0\n",
    ")\n",
    "model.load_state_dict(torch.load(MODEL_PATH, map_location=torch.device('cpu')))"
   ]
  },
  {
   "cell_type": "code",
   "execution_count": 32,
   "metadata": {},
   "outputs": [
    {
     "name": "stdout",
     "output_type": "stream",
     "text": [
      "tensor([     0,    161,      6,      0,   2801,   3267,      2,   2393,     21,\n",
      "            22, 108874, 120256,    684,      0,      3,   2419,      5,      5,\n",
      "           207,      3,      2,     99,     37])\n"
     ]
    },
    {
     "data": {
      "text/plain": [
       "(tensor([0.0490], grad_fn=<SigmoidBackward>), tensor(0))"
      ]
     },
     "execution_count": 32,
     "metadata": {},
     "output_type": "execute_result"
    }
   ],
   "source": [
    "index = 100\n",
    "record = torch.tensor(cache[index], dtype=torch.long)\n",
    "x,target = record[1:], record[0]\n",
    "print(record)\n",
    "p = model(x)\n",
    "p, target"
   ]
  },
  {
   "cell_type": "code",
   "execution_count": 109,
   "metadata": {},
   "outputs": [
    {
     "name": "stdout",
     "output_type": "stream",
     "text": [
      "1770\n",
      "[  0   0   0   1  64  33   6  46  16   7   6  72 215   0   1  50   0   2\n",
      "   9   2  25  18  11]\n"
     ]
    }
   ],
   "source": [
    "# for i,rec in enumerate(cache):\n",
    "#     if rec[2] == 0:\n",
    "#         print(i)\n",
    "#         print(rec)\n",
    "#         break"
   ]
  },
  {
   "cell_type": "code",
   "execution_count": 39,
   "metadata": {},
   "outputs": [
    {
     "name": "stdout",
     "output_type": "stream",
     "text": [
      "tensor([      0,     161,       6,       6,     480,    2671,      21,     115,\n",
      "             37,       0,  370198, 1611747,    3146,       0,       1,     443,\n",
      "              5,       5,      28,       3,      59,      38,      13])\n",
      "pred tensor([0.1792], grad_fn=<SigmoidBackward>)\n",
      "target 0\n",
      "hour : 0.5\n",
      "C1 : 0.5\n",
      "banner_pos : 0.5\n",
      "site_id : 0.5\n",
      "site_domain : 0.5\n",
      "site_category : 0.5\n",
      "app_id : 0.5\n",
      "app_domain : 0.5\n",
      "app_category : 0.5\n",
      "device_id : 0.4764660596847534\n",
      "device_ip : 0.5\n",
      "device_model : 0.5\n",
      "device_type : 0.5\n",
      "device_conn_type : 0.5\n",
      "C14 : 0.5\n",
      "C15 : 0.4316590428352356\n",
      "C16 : 0.5\n",
      "C17 : 0.5\n",
      "C18 : 0.5\n",
      "C19 : 0.27848759293556213\n",
      "C20 : 0.5\n",
      "C21 : 0.3776298463344574\n"
     ]
    }
   ],
   "source": [
    "index = 10000\n",
    "record = torch.tensor(cache[index], dtype=torch.long)\n",
    "x,target = record[1:], record[0]\n",
    "print(record)\n",
    "p = model(x)\n",
    "print(f'pred {p}')\n",
    "print(f'target {target}')\n",
    "\n",
    "weights = model.get_observation_weights(x).tolist()\n",
    "weights\n",
    "for feature,weight in zip(features,weights):\n",
    "    print(f'{feature} : {weight}')"
   ]
  },
  {
   "cell_type": "markdown",
   "metadata": {},
   "source": [
    "## feature contributions at global level"
   ]
  },
  {
   "cell_type": "code",
   "execution_count": 43,
   "metadata": {},
   "outputs": [
    {
     "data": {
      "text/plain": [
       "{'1': 0, '4': 1, '7': 2, '2': 3, '3': 4, '5': 5, '0': 6}"
      ]
     },
     "execution_count": 43,
     "metadata": {},
     "output_type": "execute_result"
    }
   ],
   "source": [
    "feature_index = 3\n",
    "feature_mapper[feature_index]"
   ]
  },
  {
   "cell_type": "code",
   "execution_count": 44,
   "metadata": {},
   "outputs": [
    {
     "data": {
      "text/plain": [
       "tensor([[[0.5000]],\n",
       "\n",
       "        [[0.5000]],\n",
       "\n",
       "        [[0.5000]],\n",
       "\n",
       "        [[0.5000]],\n",
       "\n",
       "        [[0.5000]],\n",
       "\n",
       "        [[0.5000]],\n",
       "\n",
       "        [[0.5000]]], grad_fn=<SigmoidBackward>)"
      ]
     },
     "execution_count": 44,
     "metadata": {},
     "output_type": "execute_result"
    }
   ],
   "source": [
    "feature_indices = np.array(list(feature_mapper[feature_index].values()))\n",
    "embed_indices = feature_indices + model.embedding.offsets[feature_index-1]\n",
    "embed_indices = torch.tensor(embed_indices, dtype=torch.long)\n",
    "x = model.embedding.embedding(embed_indices)\n",
    "fnn_out = model.feature_nns[feature_index-1](x)\n",
    "feature_weights = torch.sigmoid(fnn_out)\n",
    "feature_weights"
   ]
  },
  {
   "cell_type": "code",
   "execution_count": 90,
   "metadata": {},
   "outputs": [
    {
     "data": {
      "text/plain": [
       "{'1007': 0, '1005': 1, '1010': 2, '1002': 3}"
      ]
     },
     "execution_count": 90,
     "metadata": {},
     "output_type": "execute_result"
    }
   ],
   "source": [
    "feature_mapper[2]"
   ]
  },
  {
   "cell_type": "code",
   "execution_count": 85,
   "metadata": {},
   "outputs": [
    {
     "data": {
      "text/plain": [
       "torch.Size([4, 16])"
      ]
     },
     "execution_count": 85,
     "metadata": {},
     "output_type": "execute_result"
    }
   ],
   "source": []
  },
  {
   "cell_type": "code",
   "execution_count": null,
   "metadata": {},
   "outputs": [],
   "source": []
  }
 ],
 "metadata": {
  "kernelspec": {
   "display_name": "Python 3",
   "language": "python",
   "name": "python3"
  },
  "language_info": {
   "codemirror_mode": {
    "name": "ipython",
    "version": 3
   },
   "file_extension": ".py",
   "mimetype": "text/x-python",
   "name": "python",
   "nbconvert_exporter": "python",
   "pygments_lexer": "ipython3",
   "version": "3.7.6"
  }
 },
 "nbformat": 4,
 "nbformat_minor": 4
}
